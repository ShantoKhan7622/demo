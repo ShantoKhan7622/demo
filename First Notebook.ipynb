{
    "cells": [
        {
            "cell_type": "code",
            "execution_count": 1,
            "metadata": {},
            "outputs": [
                {
                    "data": {
                        "text/html": "<div>\n<style scoped>\n    .dataframe tbody tr th:only-of-type {\n        vertical-align: middle;\n    }\n\n    .dataframe tbody tr th {\n        vertical-align: top;\n    }\n\n    .dataframe thead th {\n        text-align: right;\n    }\n</style>\n<table border=\"1\" class=\"dataframe\">\n  <thead>\n    <tr style=\"text-align: right;\">\n      <th></th>\n      <th>Year</th>\n      <th>allBudget</th>\n      <th>remBudget</th>\n      <th>remarks</th>\n    </tr>\n  </thead>\n  <tbody>\n    <tr>\n      <th>0</th>\n      <td>2000</td>\n      <td>10000</td>\n      <td>5000</td>\n      <td>good</td>\n    </tr>\n    <tr>\n      <th>1</th>\n      <td>2003</td>\n      <td>15000</td>\n      <td>3956</td>\n      <td>well</td>\n    </tr>\n    <tr>\n      <th>2</th>\n      <td>2004</td>\n      <td>9000</td>\n      <td>0</td>\n      <td>bad</td>\n    </tr>\n    <tr>\n      <th>3</th>\n      <td>2007</td>\n      <td>29000</td>\n      <td>7584</td>\n      <td>good</td>\n    </tr>\n    <tr>\n      <th>4</th>\n      <td>2015</td>\n      <td>6000</td>\n      <td>0</td>\n      <td>medium</td>\n    </tr>\n  </tbody>\n</table>\n</div>",
                        "text/plain": "   Year  allBudget  remBudget remarks\n0  2000      10000       5000    good\n1  2003      15000       3956    well\n2  2004       9000          0     bad\n3  2007      29000       7584    good\n4  2015       6000          0  medium"
                    },
                    "execution_count": 1,
                    "metadata": {},
                    "output_type": "execute_result"
                }
            ],
            "source": "# The code was removed by Watson Studio for sharing."
        },
        {
            "cell_type": "code",
            "execution_count": null,
            "metadata": {},
            "outputs": [],
            "source": ""
        }
    ],
    "metadata": {
        "kernelspec": {
            "display_name": "Python 3.6",
            "language": "python",
            "name": "python3"
        },
        "language_info": {
            "codemirror_mode": {
                "name": "ipython",
                "version": 3
            },
            "file_extension": ".py",
            "mimetype": "text/x-python",
            "name": "python",
            "nbconvert_exporter": "python",
            "pygments_lexer": "ipython3",
            "version": "3.6.9"
        }
    },
    "nbformat": 4,
    "nbformat_minor": 1
}